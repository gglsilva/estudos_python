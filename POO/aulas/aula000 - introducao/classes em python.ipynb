{
 "cells": [
  {
   "cell_type": "markdown",
   "id": "eda6ff48",
   "metadata": {},
   "source": [
    "# Python orientado a objeto"
   ]
  },
  {
   "cell_type": "markdown",
   "id": "72179c83",
   "metadata": {},
   "source": [
    "### Definição\n",
    "> A programação orientada o objetos é um paradigma(uma forma de enxerga o mundo) assim com a programação orientada a procedimentos ou programação imperativa.\n",
    "No paradigma orientado a procedimentos por exemplo, os dados possuem um estado que é compartilhado pelas funções do programa ou subrotinas que realizam operações sobre eles. neste caso, todas as variaveis estão no fluxo de dados, uma função pode tomar um conjunto delas como argumento e retornar o resuldado pois exerculta suas tarefas para o fluxo de dados, para que outra função possa usa-las ou simplismente para ser vista pelo usuário.\n"
   ]
  },
  {
   "cell_type": "markdown",
   "id": "03fe0d69",
   "metadata": {},
   "source": [
    "<h2>Orientação a objetos</h2>"
   ]
  },
  {
   "cell_type": "markdown",
   "id": "b31bd4d7",
   "metadata": {},
   "source": [
    "> NA orientação a objetos não exite funções ou dados como mostrado acima, e sim objetos que se comunicam entre si por meio de mensagens trocadas em suas interfaces onde cada objeto responde as mensagens recebidas de maneira propria."
   ]
  },
  {
   "cell_type": "markdown",
   "id": "fa1f2f05",
   "metadata": {},
   "source": [
    "<h1>Sintaxe</h1>"
   ]
  },
  {
   "cell_type": "markdown",
   "id": "0a696cf7",
   "metadata": {},
   "source": [
    "> Para criamos uma classe em Python usamos a palavra reservada class."
   ]
  },
  {
   "cell_type": "code",
   "execution_count": 3,
   "id": "4829b8bf",
   "metadata": {},
   "outputs": [],
   "source": [
    "#definimos uma classe que não faz nada\n",
    "class Cachorro:\n",
    "    pass"
   ]
  },
  {
   "cell_type": "code",
   "execution_count": 4,
   "id": "b9c198d2",
   "metadata": {},
   "outputs": [
    {
     "data": {
      "text/plain": [
       "__main__.Cachorro"
      ]
     },
     "execution_count": 4,
     "metadata": {},
     "output_type": "execute_result"
    }
   ],
   "source": [
    "Cachorro"
   ]
  },
  {
   "cell_type": "markdown",
   "id": "15e6bb75",
   "metadata": {},
   "source": [
    "> usando a tecnica de introspecção(dir) descobrimos que nossa classe recem-criada ja possui dois atribudos"
   ]
  },
  {
   "cell_type": "code",
   "execution_count": 6,
   "id": "c418883c",
   "metadata": {},
   "outputs": [
    {
     "data": {
      "text/plain": [
       "['__class__',\n",
       " '__delattr__',\n",
       " '__dict__',\n",
       " '__dir__',\n",
       " '__doc__',\n",
       " '__eq__',\n",
       " '__format__',\n",
       " '__ge__',\n",
       " '__getattribute__',\n",
       " '__gt__',\n",
       " '__hash__',\n",
       " '__init__',\n",
       " '__init_subclass__',\n",
       " '__le__',\n",
       " '__lt__',\n",
       " '__module__',\n",
       " '__ne__',\n",
       " '__new__',\n",
       " '__reduce__',\n",
       " '__reduce_ex__',\n",
       " '__repr__',\n",
       " '__setattr__',\n",
       " '__sizeof__',\n",
       " '__str__',\n",
       " '__subclasshook__',\n",
       " '__weakref__']"
      ]
     },
     "execution_count": 6,
     "metadata": {},
     "output_type": "execute_result"
    }
   ],
   "source": [
    "dir(Cachorro)"
   ]
  },
  {
   "cell_type": "markdown",
   "id": "fe762b7f",
   "metadata": {},
   "source": [
    "## Atributos e métodos"
   ]
  },
  {
   "cell_type": "markdown",
   "id": "78a96be5",
   "metadata": {},
   "source": [
    "> Atribudos são objetos inerentes as classes, comuns em todas as instancias. imagine que queiramos agrupa cachorros e galinhas em classes conforme suas caracteristicas. As caracteristicas que toda as instancias destas classes possuem são seus atribudos."
   ]
  },
  {
   "cell_type": "code",
   "execution_count": 1,
   "id": "7150409d",
   "metadata": {},
   "outputs": [],
   "source": [
    "class Cachorro:\n",
    "    cobertura = 'pelo'\n",
    "    alimento = 'carne'\n",
    "    patas = 4\n",
    "    habitat = 'domestico'\n",
    "    nome = 'Rex'"
   ]
  },
  {
   "cell_type": "code",
   "execution_count": 2,
   "id": "8cd6a534",
   "metadata": {},
   "outputs": [],
   "source": [
    "class Galinha:\n",
    "    cobertura = 'penas'\n",
    "    alimento = 'grãos'\n",
    "    patas = 2\n",
    "    habitat = 'domestico'\n",
    "    bico = 'pequeno'"
   ]
  },
  {
   "cell_type": "code",
   "execution_count": 3,
   "id": "13a4a087",
   "metadata": {},
   "outputs": [
    {
     "data": {
      "text/plain": [
       "['__class__',\n",
       " '__delattr__',\n",
       " '__dict__',\n",
       " '__dir__',\n",
       " '__doc__',\n",
       " '__eq__',\n",
       " '__format__',\n",
       " '__ge__',\n",
       " '__getattribute__',\n",
       " '__gt__',\n",
       " '__hash__',\n",
       " '__init__',\n",
       " '__init_subclass__',\n",
       " '__le__',\n",
       " '__lt__',\n",
       " '__module__',\n",
       " '__ne__',\n",
       " '__new__',\n",
       " '__reduce__',\n",
       " '__reduce_ex__',\n",
       " '__repr__',\n",
       " '__setattr__',\n",
       " '__sizeof__',\n",
       " '__str__',\n",
       " '__subclasshook__',\n",
       " '__weakref__',\n",
       " 'alimento',\n",
       " 'cobertura',\n",
       " 'habitat',\n",
       " 'nome',\n",
       " 'patas']"
      ]
     },
     "execution_count": 3,
     "metadata": {},
     "output_type": "execute_result"
    }
   ],
   "source": [
    "dir(Cachorro)"
   ]
  },
  {
   "cell_type": "markdown",
   "id": "979e6f92",
   "metadata": {},
   "source": [
    "> vamos definir instancias para as nossas classes, como poderar observar instancias podem ser vistas como individuos de uma classe"
   ]
  },
  {
   "cell_type": "code",
   "execution_count": 5,
   "id": "815efb4c",
   "metadata": {},
   "outputs": [],
   "source": [
    "snoopy=Cachorro()\n",
    "lala=Galinha()"
   ]
  },
  {
   "cell_type": "code",
   "execution_count": 7,
   "id": "cf003c88",
   "metadata": {},
   "outputs": [
    {
     "data": {
      "text/plain": [
       "'carne'"
      ]
     },
     "execution_count": 7,
     "metadata": {},
     "output_type": "execute_result"
    }
   ],
   "source": [
    "snoopy.alimento"
   ]
  },
  {
   "cell_type": "code",
   "execution_count": 8,
   "id": "92048073",
   "metadata": {},
   "outputs": [
    {
     "data": {
      "text/plain": [
       "'grãos'"
      ]
     },
     "execution_count": 8,
     "metadata": {},
     "output_type": "execute_result"
    }
   ],
   "source": [
    "lala.alimento"
   ]
  },
  {
   "cell_type": "code",
   "execution_count": 9,
   "id": "9ef0789c",
   "metadata": {},
   "outputs": [
    {
     "data": {
      "text/plain": [
       "'Rex'"
      ]
     },
     "execution_count": 9,
     "metadata": {},
     "output_type": "execute_result"
    }
   ],
   "source": [
    "snoopy.nome\n"
   ]
  },
  {
   "cell_type": "markdown",
   "id": "ab5bd3ee",
   "metadata": {},
   "source": [
    "Metodos\n"
   ]
  },
  {
   "cell_type": "markdown",
   "id": "17e1c137",
   "metadata": {},
   "source": [
    "> metodos são funções difinidas dentro de uma classe,geralmente ligadas bound a cada instancia da classe, são usados para definir ações que serão executadas por uma instancia da classe"
   ]
  },
  {
   "cell_type": "code",
   "execution_count": 24,
   "id": "cd302582",
   "metadata": {},
   "outputs": [],
   "source": [
    "# exemplo\n",
    "class Circulo:\n",
    "    raio = 25.4\n",
    "    def calcula_Area(self):\n",
    "        self.area = 3.14*(self.raio**2)\n",
    "    \n",
    "    def calcular_volume(self,altura):\n",
    "            self.valume = 3.14*(self.raio**2)*altura        "
   ]
  },
  {
   "cell_type": "code",
   "execution_count": 25,
   "id": "653add56",
   "metadata": {},
   "outputs": [],
   "source": [
    "c1 = Circulo() # instancia da classe Circulo"
   ]
  },
  {
   "cell_type": "code",
   "execution_count": 26,
   "id": "df705c09",
   "metadata": {},
   "outputs": [
    {
     "data": {
      "text/plain": [
       "25.4"
      ]
     },
     "execution_count": 26,
     "metadata": {},
     "output_type": "execute_result"
    }
   ],
   "source": [
    "c1.raio #exibi o valor do atributo raio"
   ]
  },
  {
   "cell_type": "code",
   "execution_count": 27,
   "id": "ba8be43b",
   "metadata": {},
   "outputs": [],
   "source": [
    "c1.calcula_Area() # calcular a area"
   ]
  },
  {
   "cell_type": "code",
   "execution_count": 29,
   "id": "c73dd909",
   "metadata": {},
   "outputs": [],
   "source": [
    "c1.calcular_volume(12) # calcular o valume, é necessario passar o argumento obrigatorio altura na chamada do metodo.\n"
   ]
  },
  {
   "cell_type": "markdown",
   "id": "8a4d165a",
   "metadata": {},
   "source": [
    "## metodo especial __init__\n"
   ]
  },
  {
   "cell_type": "markdown",
   "id": "186fd5c7",
   "metadata": {},
   "source": [
    "> na definição de uma classe é muito comum usarmos o metodo especial __ini__, ele é o construtor da classe, e usamos ele sempre que queremos definir atributos e metodos para uma instancia no nomento da criação delas, com o __init__ podemos diferenciar uma instancia da outra da mesma classe"
   ]
  },
  {
   "cell_type": "code",
   "execution_count": 30,
   "id": "e2bc533c",
   "metadata": {},
   "outputs": [],
   "source": [
    "class Cachorro:\n",
    "    cobertura = 'pelo'\n",
    "    patas = 4\n",
    "    alimento = 'carne'\n",
    "    habitat = 'domestico'\n",
    "    \n",
    "    def __init__(self, nome):\n",
    "        self.nome = nome"
   ]
  },
  {
   "cell_type": "code",
   "execution_count": 31,
   "id": "15be9c82",
   "metadata": {},
   "outputs": [],
   "source": [
    "d1 = Cachorro('Rex')"
   ]
  },
  {
   "cell_type": "code",
   "execution_count": 32,
   "id": "729b81ee",
   "metadata": {},
   "outputs": [
    {
     "data": {
      "text/plain": [
       "'Rex'"
      ]
     },
     "execution_count": 32,
     "metadata": {},
     "output_type": "execute_result"
    }
   ],
   "source": [
    "d1.nome"
   ]
  },
  {
   "cell_type": "code",
   "execution_count": 33,
   "id": "c49be851",
   "metadata": {},
   "outputs": [
    {
     "data": {
      "text/plain": [
       "'Snoopy'"
      ]
     },
     "execution_count": 33,
     "metadata": {},
     "output_type": "execute_result"
    }
   ],
   "source": [
    "d2 = Cachorro('Snoopy')\n",
    "d2.nome"
   ]
  },
  {
   "cell_type": "markdown",
   "id": "f91dc7e3",
   "metadata": {},
   "source": [
    "> Exemplo: vamos supor que recisamos maniular objetos na tela, de forma que cada um deles tenha um nome, cor, numero de aresta e posição(x,y) mutavel, a posição será dada por um valor real aleatorio dentro de um quadrado 10x10."
   ]
  },
  {
   "cell_type": "code",
   "execution_count": 37,
   "id": "dfae835a",
   "metadata": {},
   "outputs": [],
   "source": [
    "from random import random\n",
    "class Sprites:\n",
    "    def __init__(self,nome, tamanho='grande', cor='amarela',aresta=5):\n",
    "        self.nome = nome\n",
    "        self.tamanho = tamanho\n",
    "        self.cor = cor\n",
    "        self.aresta = aresta\n",
    "    \n",
    "    \n",
    "    def update_position(self):\n",
    "        self.position = random()*10, random()*10 #posição x e y\n",
    "        print('{} esta agora em:{}.'.format(self.nome, self.position))        "
   ]
  },
  {
   "cell_type": "code",
   "execution_count": 38,
   "id": "8577c374",
   "metadata": {},
   "outputs": [],
   "source": [
    "s1 = Sprites('start', 'medio', 'verde')"
   ]
  },
  {
   "cell_type": "code",
   "execution_count": 40,
   "id": "37bd8e9a",
   "metadata": {},
   "outputs": [
    {
     "data": {
      "text/plain": [
       "'medio'"
      ]
     },
     "execution_count": 40,
     "metadata": {},
     "output_type": "execute_result"
    }
   ],
   "source": [
    "s1.tamanho"
   ]
  },
  {
   "cell_type": "code",
   "execution_count": 44,
   "id": "5ddf9001",
   "metadata": {},
   "outputs": [
    {
     "name": "stdout",
     "output_type": "stream",
     "text": [
      "start esta agora em:(6.338648423558922, 1.8161631662537714).\n"
     ]
    }
   ],
   "source": [
    "s1.update_position()"
   ]
  },
  {
   "cell_type": "code",
   "execution_count": 45,
   "id": "3388a3d1",
   "metadata": {},
   "outputs": [
    {
     "data": {
      "text/plain": [
       "(6.338648423558922, 1.8161631662537714)"
      ]
     },
     "execution_count": 45,
     "metadata": {},
     "output_type": "execute_result"
    }
   ],
   "source": [
    "s1.position # apos aplicamos o metodo atualiza posição o atributo posição passa a existir."
   ]
  },
  {
   "cell_type": "markdown",
   "id": "d50e02dd",
   "metadata": {},
   "source": [
    "# Atributos especiais __doc__ e __module__"
   ]
  },
  {
   "cell_type": "markdown",
   "id": "a4b18c34",
   "metadata": {},
   "source": [
    "> as classes possuem nativamente pelo menos os metodos __doc__ e __module__, assim como as funções as classes também podem possuir docstrings, seu conteudo é imediatamente assumido pelo atributo __doc__."
   ]
  },
  {
   "cell_type": "code",
   "execution_count": 47,
   "id": "3902ddaf",
   "metadata": {},
   "outputs": [],
   "source": [
    "class Fausto:\n",
    "    \"\"\"\n",
    "    Fausto é um romance de Goethe\n",
    "    que Beethoven transformou em Òpera.\"\"\"\n",
    "    def review(self):\n",
    "        \"\"\"\n",
    "        Este método responde com a avaliação dos críticos\"\"\"\n",
    "        print('Um romance excepcional')"
   ]
  },
  {
   "cell_type": "code",
   "execution_count": 48,
   "id": "e00319a0",
   "metadata": {},
   "outputs": [
    {
     "name": "stdout",
     "output_type": "stream",
     "text": [
      "\n",
      "    Fausto é um romance de Goethe\n",
      "    que Beethoven transformou em Òpera.\n"
     ]
    }
   ],
   "source": [
    "print(Fausto.__doc__)"
   ]
  },
  {
   "cell_type": "code",
   "execution_count": 49,
   "id": "e76ac12a",
   "metadata": {},
   "outputs": [
    {
     "name": "stdout",
     "output_type": "stream",
     "text": [
      "\n",
      "    Fausto é um romance de Goethe\n",
      "    que Beethoven transformou em Òpera.\n"
     ]
    }
   ],
   "source": [
    "print(Fausto().__doc__)"
   ]
  },
  {
   "cell_type": "markdown",
   "id": "72865467",
   "metadata": {},
   "source": [
    "## help\n",
    "> outra ferramenta importante de instrospecção é a função help, ela exibe todos os metodos de uma só vez, alem de mostrar o modulo que a classe pertence"
   ]
  },
  {
   "cell_type": "code",
   "execution_count": 50,
   "id": "a7d56659",
   "metadata": {},
   "outputs": [
    {
     "name": "stdout",
     "output_type": "stream",
     "text": [
      "Help on class Fausto in module __main__:\n",
      "\n",
      "class Fausto(builtins.object)\n",
      " |  Fausto é um romance de Goethe\n",
      " |  que Beethoven transformou em Òpera.\n",
      " |  \n",
      " |  Methods defined here:\n",
      " |  \n",
      " |  review(self)\n",
      " |      Este método responde com a avaliação dos críticos\n",
      " |  \n",
      " |  ----------------------------------------------------------------------\n",
      " |  Data descriptors defined here:\n",
      " |  \n",
      " |  __dict__\n",
      " |      dictionary for instance variables (if defined)\n",
      " |  \n",
      " |  __weakref__\n",
      " |      list of weak references to the object (if defined)\n",
      "\n"
     ]
    }
   ],
   "source": [
    "help(Fausto)"
   ]
  },
  {
   "cell_type": "code",
   "execution_count": null,
   "id": "493b013c",
   "metadata": {},
   "outputs": [],
   "source": []
  }
 ],
 "metadata": {
  "kernelspec": {
   "display_name": "Python 3",
   "language": "python",
   "name": "python3"
  },
  "language_info": {
   "codemirror_mode": {
    "name": "ipython",
    "version": 3
   },
   "file_extension": ".py",
   "mimetype": "text/x-python",
   "name": "python",
   "nbconvert_exporter": "python",
   "pygments_lexer": "ipython3",
   "version": "3.8.10"
  }
 },
 "nbformat": 4,
 "nbformat_minor": 5
}
