{
 "cells": [
  {
   "cell_type": "markdown",
   "id": "eda6ff48",
   "metadata": {},
   "source": [
    "# Python orientado a objeto"
   ]
  },
  {
   "cell_type": "markdown",
   "id": "72179c83",
   "metadata": {},
   "source": [
    "### Definição\n",
    "> A programação orientada o objetos é um paradigma(uma forma de enxerga o mundo) assim com a programação orientada a procedimentos ou programação imperativa.\n",
    "No paradigma orientado a procedimentos por exemplo, os dados possuem um estado que é compartilhado pelas funções do programa ou subrotinas que realizam operações sobre eles. neste caso, todas as variaveis estão no fluxo de dados, uma função pode tomar um conjunto delas como argumento e retornar o resuldado pois exerculta suas tarefas para o fluxo de dados, para que outra função possa usa-las ou simplismente para ser vista pelo usuário.\n"
   ]
  },
  {
   "cell_type": "markdown",
   "id": "03fe0d69",
   "metadata": {},
   "source": [
    "<h2>Orientação a objetos</h2>"
   ]
  },
  {
   "cell_type": "markdown",
   "id": "b31bd4d7",
   "metadata": {},
   "source": [
    "> NA orientação a objetos não exite funções ou dados como mostrado acima, e sim objetos que se comunicam entre si por meio de mensagens trocadas em suas interfaces onde cada objeto responde as mensagens recebidas de maneira propria."
   ]
  },
  {
   "cell_type": "markdown",
   "id": "fa1f2f05",
   "metadata": {},
   "source": [
    "<h1>Sintaxe</h1>"
   ]
  },
  {
   "cell_type": "markdown",
   "id": "0a696cf7",
   "metadata": {},
   "source": [
    "> Para criamos uma classe em Python usamos a palavra reservada class."
   ]
  },
  {
   "cell_type": "code",
   "execution_count": 3,
   "id": "4829b8bf",
   "metadata": {},
   "outputs": [],
   "source": [
    "#definimos uma classe que não faz nada\n",
    "class Cachorro:\n",
    "    pass"
   ]
  },
  {
   "cell_type": "code",
   "execution_count": 4,
   "id": "b9c198d2",
   "metadata": {},
   "outputs": [
    {
     "data": {
      "text/plain": [
       "__main__.Cachorro"
      ]
     },
     "execution_count": 4,
     "metadata": {},
     "output_type": "execute_result"
    }
   ],
   "source": [
    "Cachorro"
   ]
  },
  {
   "cell_type": "markdown",
   "id": "15e6bb75",
   "metadata": {},
   "source": [
    "> usando a tecnica de introspecção(dir) descobrimos que nossa classe recem-criada ja possui dois atribudos"
   ]
  },
  {
   "cell_type": "code",
   "execution_count": 6,
   "id": "c418883c",
   "metadata": {},
   "outputs": [
    {
     "data": {
      "text/plain": [
       "['__class__',\n",
       " '__delattr__',\n",
       " '__dict__',\n",
       " '__dir__',\n",
       " '__doc__',\n",
       " '__eq__',\n",
       " '__format__',\n",
       " '__ge__',\n",
       " '__getattribute__',\n",
       " '__gt__',\n",
       " '__hash__',\n",
       " '__init__',\n",
       " '__init_subclass__',\n",
       " '__le__',\n",
       " '__lt__',\n",
       " '__module__',\n",
       " '__ne__',\n",
       " '__new__',\n",
       " '__reduce__',\n",
       " '__reduce_ex__',\n",
       " '__repr__',\n",
       " '__setattr__',\n",
       " '__sizeof__',\n",
       " '__str__',\n",
       " '__subclasshook__',\n",
       " '__weakref__']"
      ]
     },
     "execution_count": 6,
     "metadata": {},
     "output_type": "execute_result"
    }
   ],
   "source": [
    "dir(Cachorro)"
   ]
  },
  {
   "cell_type": "markdown",
   "id": "fe762b7f",
   "metadata": {},
   "source": [
    "## Atributos e métodos"
   ]
  },
  {
   "cell_type": "markdown",
   "id": "78a96be5",
   "metadata": {},
   "source": [
    "> Atribudos são objetos inerentes as classes, comuns em todas as instancias. imagine que queiramos agrupa cachorros e galinhas em classes conforme suas caracteristicas. As caracteristicas que toda as instancias destas classes possuem são seus atribudos."
   ]
  },
  {
   "cell_type": "code",
   "execution_count": 1,
   "id": "7150409d",
   "metadata": {},
   "outputs": [],
   "source": [
    "class Cachorro:\n",
    "    cobertura = 'pelo'\n",
    "    alimento = 'carne'\n",
    "    patas = 4\n",
    "    habitat = 'domestico'\n",
    "    nome = 'Rex'"
   ]
  },
  {
   "cell_type": "code",
   "execution_count": 2,
   "id": "8cd6a534",
   "metadata": {},
   "outputs": [],
   "source": [
    "class Galinha:\n",
    "    cobertura = 'penas'\n",
    "    alimento = 'grãos'\n",
    "    patas = 2\n",
    "    habitat = 'domestico'\n",
    "    bico = 'pequeno'"
   ]
  },
  {
   "cell_type": "code",
   "execution_count": 3,
   "id": "4edccdb4",
   "metadata": {},
   "outputs": [
    {
     "data": {
      "text/plain": [
       "['__class__',\n",
       " '__delattr__',\n",
       " '__dict__',\n",
       " '__dir__',\n",
       " '__doc__',\n",
       " '__eq__',\n",
       " '__format__',\n",
       " '__ge__',\n",
       " '__getattribute__',\n",
       " '__gt__',\n",
       " '__hash__',\n",
       " '__init__',\n",
       " '__init_subclass__',\n",
       " '__le__',\n",
       " '__lt__',\n",
       " '__module__',\n",
       " '__ne__',\n",
       " '__new__',\n",
       " '__reduce__',\n",
       " '__reduce_ex__',\n",
       " '__repr__',\n",
       " '__setattr__',\n",
       " '__sizeof__',\n",
       " '__str__',\n",
       " '__subclasshook__',\n",
       " '__weakref__',\n",
       " 'alimento',\n",
       " 'cobertura',\n",
       " 'habitat',\n",
       " 'nome',\n",
       " 'patas']"
      ]
     },
     "execution_count": 3,
     "metadata": {},
     "output_type": "execute_result"
    }
   ],
   "source": [
    "dir(Cachorro)"
   ]
  },
  {
   "cell_type": "markdown",
   "id": "8f5f53a4",
   "metadata": {},
   "source": [
    "> vamos definir instancias para as nossas classes, como poderar observar instancias podem ser vistas como individuos de uma classe"
   ]
  },
  {
   "cell_type": "code",
   "execution_count": 5,
   "id": "260e2e6c",
   "metadata": {},
   "outputs": [],
   "source": [
    "snoopy=Cachorro()\n",
    "lala=Galinha()"
   ]
  },
  {
   "cell_type": "code",
   "execution_count": 7,
   "id": "ea68d0bf",
   "metadata": {},
   "outputs": [
    {
     "data": {
      "text/plain": [
       "'carne'"
      ]
     },
     "execution_count": 7,
     "metadata": {},
     "output_type": "execute_result"
    }
   ],
   "source": [
    "snoopy.alimento"
   ]
  },
  {
   "cell_type": "code",
   "execution_count": 8,
   "id": "b1b24dfd",
   "metadata": {},
   "outputs": [
    {
     "data": {
      "text/plain": [
       "'grãos'"
      ]
     },
     "execution_count": 8,
     "metadata": {},
     "output_type": "execute_result"
    }
   ],
   "source": [
    "lala.alimento"
   ]
  },
  {
   "cell_type": "code",
   "execution_count": 9,
   "id": "48c03d5f",
   "metadata": {},
   "outputs": [
    {
     "data": {
      "text/plain": [
       "'Rex'"
      ]
     },
     "execution_count": 9,
     "metadata": {},
     "output_type": "execute_result"
    }
   ],
   "source": [
    "snoopy.nome\n"
   ]
  },
  {
   "cell_type": "markdown",
   "id": "9dc9c3d4",
   "metadata": {},
   "source": [
    "Metodos\n"
   ]
  },
  {
   "cell_type": "markdown",
   "id": "3084ed21",
   "metadata": {},
   "source": [
    "> metodos são funções difinidas dentro de uma classe,geralmente ligadas bound a cada instancia da classe, são usados para definir ações que serão executadas por uma instancia da classe"
   ]
  },
  {
   "cell_type": "code",
   "execution_count": 24,
   "id": "0b49c1ff",
   "metadata": {},
   "outputs": [],
   "source": [
    "# exemplo\n",
    "class Circulo:\n",
    "    raio = 25.4\n",
    "    def calcula_Area(self):\n",
    "        self.area = 3.14*(self.raio**2)\n",
    "    \n",
    "    def calcular_volume(self,altura):\n",
    "            self.valume = 3.14*(self.raio**2)*altura        "
   ]
  },
  {
   "cell_type": "code",
   "execution_count": 25,
   "id": "6419da5d",
   "metadata": {},
   "outputs": [],
   "source": [
    "c1 = Circulo() # instancia da classe Circulo"
   ]
  },
  {
   "cell_type": "code",
   "execution_count": 26,
   "id": "5eccf500",
   "metadata": {},
   "outputs": [
    {
     "data": {
      "text/plain": [
       "25.4"
      ]
     },
     "execution_count": 26,
     "metadata": {},
     "output_type": "execute_result"
    }
   ],
   "source": [
    "c1.raio #exibi o valor do atributo raio"
   ]
  },
  {
   "cell_type": "code",
   "execution_count": 27,
   "id": "da8b5d9a",
   "metadata": {},
   "outputs": [],
   "source": [
    "c1.calcula_Area() # calcular a area"
   ]
  },
  {
   "cell_type": "code",
   "execution_count": 29,
   "id": "164c28d5",
   "metadata": {},
   "outputs": [],
   "source": [
    "c1.calcular_volume(12) # calcular o valume, é necessario passar o argumento obrigatorio altura na chamada do metodo.\n"
   ]
  },
  {
   "cell_type": "markdown",
   "id": "4acb8841",
   "metadata": {},
   "source": [
    "## metodo especial __init__\n"
   ]
  },
  {
   "cell_type": "markdown",
   "id": "2def5953",
   "metadata": {},
   "source": [
    "> na definição de uma classe é muito comum usarmos o metodo especial __ini__, ele é o construtor da classe, e usamos ele sempre que queremos definir atributos e metodos para uma instancia no nomento da criação delas, com o __init__ podemos diferenciar uma instancia da outra da mesma classe"
   ]
  },
  {
   "cell_type": "code",
   "execution_count": 30,
   "id": "451897fc",
   "metadata": {},
   "outputs": [],
   "source": [
    "class Cachorro:\n",
    "    cobertura = 'pelo'\n",
    "    patas = 4\n",
    "    alimento = 'carne'\n",
    "    habitat = 'domestico'\n",
    "    \n",
    "    def __init__(self, nome):\n",
    "        self.nome = nome"
   ]
  },
  {
   "cell_type": "code",
   "execution_count": 31,
   "id": "5255ec6b",
   "metadata": {},
   "outputs": [],
   "source": [
    "d1 = Cachorro('Rex')"
   ]
  },
  {
   "cell_type": "code",
   "execution_count": 32,
   "id": "080fee6e",
   "metadata": {},
   "outputs": [
    {
     "data": {
      "text/plain": [
       "'Rex'"
      ]
     },
     "execution_count": 32,
     "metadata": {},
     "output_type": "execute_result"
    }
   ],
   "source": [
    "d1.nome"
   ]
  },
  {
   "cell_type": "code",
   "execution_count": 33,
   "id": "8d6be4dd",
   "metadata": {},
   "outputs": [
    {
     "data": {
      "text/plain": [
       "'Snoopy'"
      ]
     },
     "execution_count": 33,
     "metadata": {},
     "output_type": "execute_result"
    }
   ],
   "source": [
    "d2 = Cachorro('Snoopy')\n",
    "d2.nome"
   ]
  },
  {
   "cell_type": "markdown",
   "id": "a5f70ea2",
   "metadata": {},
   "source": [
    "> Exemplo: vamos supor que recisamos maniular objetos na tela, de forma que cada um deles tenha um nome, cor, numero de aresta e posição(x,y) mutavel, a posição será dada por um valor real aleatorio dentro de um quadrado 10x10."
   ]
  },
  {
   "cell_type": "code",
   "execution_count": 37,
   "id": "af06ee8c",
   "metadata": {},
   "outputs": [],
   "source": [
    "from random import random\n",
    "class Sprites:\n",
    "    def __init__(self,nome, tamanho='grande', cor='amarela',aresta=5):\n",
    "        self.nome = nome\n",
    "        self.tamanho = tamanho\n",
    "        self.cor = cor\n",
    "        self.aresta = aresta\n",
    "    \n",
    "    \n",
    "    def update_position(self):\n",
    "        self.position = random()*10, random()*10 #posição x e y\n",
    "        print('{} esta agora em:{}.'.format(self.nome, self.position))        "
   ]
  },
  {
   "cell_type": "code",
   "execution_count": 38,
   "id": "e3f40469",
   "metadata": {},
   "outputs": [],
   "source": [
    "s1 = Sprites('start', 'medio', 'verde')"
   ]
  },
  {
   "cell_type": "code",
   "execution_count": 40,
   "id": "afca6ce1",
   "metadata": {},
   "outputs": [
    {
     "data": {
      "text/plain": [
       "'medio'"
      ]
     },
     "execution_count": 40,
     "metadata": {},
     "output_type": "execute_result"
    }
   ],
   "source": [
    "s1.tamanho"
   ]
  },
  {
   "cell_type": "code",
   "execution_count": 44,
   "id": "d69a0207",
   "metadata": {},
   "outputs": [
    {
     "name": "stdout",
     "output_type": "stream",
     "text": [
      "start esta agora em:(6.338648423558922, 1.8161631662537714).\n"
     ]
    }
   ],
   "source": [
    "s1.update_position()"
   ]
  },
  {
   "cell_type": "code",
   "execution_count": 45,
   "id": "c37374ab",
   "metadata": {},
   "outputs": [
    {
     "data": {
      "text/plain": [
       "(6.338648423558922, 1.8161631662537714)"
      ]
     },
     "execution_count": 45,
     "metadata": {},
     "output_type": "execute_result"
    }
   ],
   "source": [
    "s1.position # apos aplicamos o metodo atualiza posição o atributo posição passa a existir."
   ]
  },
  {
   "cell_type": "markdown",
   "id": "ba2192c1",
   "metadata": {},
   "source": [
    "# Atributos especiais __doc__ e __module__"
   ]
  },
  {
   "cell_type": "markdown",
   "id": "f503a505",
   "metadata": {},
   "source": [
    "> as classes possuem nativamente pelo menos os metodos __doc__ e __module__, assim como as funções as classes também podem possuir docstrings, seu conteudo é imediatamente assumido pelo atributo __doc__."
   ]
  },
  {
   "cell_type": "code",
   "execution_count": 46,
   "id": "3c6be514",
   "metadata": {},
   "outputs": [
    {
     "ename": "SyntaxError",
     "evalue": "Missing parentheses in call to 'print'. Did you mean print('Um romance excepcional')? (<ipython-input-46-ad9c20a416bf>, line 8)",
     "output_type": "error",
     "traceback": [
      "\u001b[0;36m  File \u001b[0;32m\"<ipython-input-46-ad9c20a416bf>\"\u001b[0;36m, line \u001b[0;32m8\u001b[0m\n\u001b[0;31m    print 'Um romance excepcional'\u001b[0m\n\u001b[0m          ^\u001b[0m\n\u001b[0;31mSyntaxError\u001b[0m\u001b[0;31m:\u001b[0m Missing parentheses in call to 'print'. Did you mean print('Um romance excepcional')?\n"
     ]
    }
   ],
   "source": [
    "class Fausto:\n",
    "    \"\"\"\n",
    "    Fausto é um romance de Goethe\n",
    "    que Beethoven transformou em Òpera.\"\"\"\n",
    "    def review(self):\n",
    "        \"\"\"\n",
    "        Este método responde com a avaliação dos críticos\"\"\"\n",
    "        print('Um romance excepcional')"
   ]
  }
 ],
 "metadata": {
  "kernelspec": {
   "display_name": "Python 3",
   "language": "python",
   "name": "python3"
  },
  "language_info": {
   "codemirror_mode": {
    "name": "ipython",
    "version": 3
   },
   "file_extension": ".py",
   "mimetype": "text/x-python",
   "name": "python",
   "nbconvert_exporter": "python",
   "pygments_lexer": "ipython3",
   "version": "3.8.10"
  }
 },
 "nbformat": 4,
 "nbformat_minor": 5
}
